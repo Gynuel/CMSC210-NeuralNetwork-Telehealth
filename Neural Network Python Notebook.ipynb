{
  "cells": [
    {
      "cell_type": "markdown",
      "metadata": {
        "id": "WLQ8UYJJfgiz"
      },
      "source": [
        "# **Assignment #3**\n",
        "## **Introduction**\n",
        "#### This document was developed by Mr. Emanuel Y. Gloria and Ms. Viel Celis as one of the academic requirement/assignment for the CMSC 210: Artificial Intelligence course for the Diploma in Computer Science degree.\n",
        "\n",
        "#### *Please note that the data used in this assignment was acquired via survey by the aforementioned students. Also, the code below was written for purposes of showing all the steps in the model development process.*"
      ]
    },
    {
      "cell_type": "markdown",
      "metadata": {
        "id": "2J1bmeYme6Zz"
      },
      "source": [
        "##**Data Pre-processing**"
      ]
    },
    {
      "cell_type": "code",
      "execution_count": null,
      "metadata": {
        "colab": {
          "base_uri": "https://localhost:8080/"
        },
        "id": "1GXRX5cHeh-t",
        "outputId": "ede2bba3-c421-46d4-f485-280e9acc61a6"
      },
      "outputs": [
        {
          "output_type": "stream",
          "name": "stdout",
          "text": [
            "Drive already mounted at /content/drive; to attempt to forcibly remount, call drive.mount(\"/content/drive\", force_remount=True).\n"
          ]
        }
      ],
      "source": [
        "# Warning: The data was imported from Google Drive and this might not work\n",
        "# for others who does not have my UP Mail credentials. Suggest to run the scripts\n",
        "# on your local machine and create a working directory with the CSV file in it.\n",
        "\n",
        "# Import the libraries to load the survey data from Google Drive\n",
        "from google.colab import drive\n",
        "import os\n",
        "drive.mount('/content/drive')\n",
        "\n",
        "# Set the search parameters\n",
        "filename = 'Gloria-Celis_Use of Telehealth and Digital Health Tools.csv'\n",
        "search_path = '/content/drive/My Drive/Diploma in Computer Science - UPOU Documents/Colab Notebooks/Data'\n",
        "\n",
        "# Search for the file\n",
        "for root, dirs, files in os.walk(search_path):\n",
        "    if filename in files:\n",
        "        file_path = os.path.join(root, filename)\n",
        "        break\n",
        "\n",
        "# Relevant libraries for the analyses\n",
        "import pandas as pd\n",
        "import numpy as np\n",
        "from numpy.random.mtrand import standard_exponential\n",
        "\n",
        "from sklearn.model_selection import train_test_split, GridSearchCV # Train and Test split and Parameter Tuning\n",
        "from sklearn.tree import DecisionTreeClassifier, plot_tree         # Decision Tree Classifier\n",
        "from sklearn.neighbors import KNeighborsClassifier                 # KNN Classifier\n",
        "from sklearn.naive_bayes import GaussianNB                         # Naive Bayes Classifier\n",
        "from sklearn.neural_network import MLPClassifier                   # Neural Network Classifier\n",
        "from sklearn.metrics import accuracy_score, confusion_matrix, classification_report          # Model results\n",
        "from sklearn.model_selection import cross_val_score, cross_val_predict, KFold, ShuffleSplit  # Cross validation\n",
        "from sklearn.preprocessing import StandardScaler, LabelEncoder, MinMaxScaler\n",
        "\n",
        "import matplotlib.pyplot as plt                                    # Visualization\n",
        "from matplotlib.colors import ListedColormap\n",
        "import seaborn as sns\n",
        "import math\n",
        "\n",
        "import warnings\n",
        "\n",
        "# To suppress all warnings\n",
        "warnings.filterwarnings(\"ignore\")\n",
        "\n",
        "# Load the CSV file into a DataFrame\n",
        "# Feel free to add the local file path here if you can't access the file via GDrive.\n",
        "df = pd.read_csv(file_path)\n",
        "\n",
        "# Step 1: Remove the following columns: Timestamp, Email Address, Name (Optional)\n",
        "df = df.iloc[:,3:]\n",
        "\n",
        "# Step 2: Rename column names\n",
        "df.columns = [\"age\",\"sex\",\"residence\",\"occupation\",\"q1\",\"q2\",\"q3\",\"q4\",\"q5\",\"q6\",\"q7\",\n",
        " \"q8\",\"q9\",\"q10\",\"q11\",\"q12\",\"q13\",\"q14\",\"q15\",\"q16\",\"q17\"]\n",
        "\n",
        "#Step 3: Replace mislabeled and misspelled data entries\n",
        "df[\"q5\"].replace({'Not Applicable. (If you answered \"No\" in Q4.)':\"Not applicable\"}, inplace = True)\n",
        "df[\"q12\"].replace({\"Note concerned\":\"Not concerned\"}, inplace = True)\n",
        "\n",
        "#Step 4: Convert nominal data from columns age, Q1, and Q11-14 to categorical\n",
        "# and remap category orders\n",
        "df[\"age\"] = df[\"age\"].astype(\"category\")\n",
        "df[\"age\"] = df[\"age\"].cat.reorder_categories([\"18-25\", \"26-30\", \"31-35\",\"36-40\",\"41- above\"])\n",
        "\n",
        "df[\"q1\"] = df[\"q1\"].astype(\"category\")\n",
        "df[\"q1\"] = df[\"q1\"].cat.reorder_categories([\"Low\", \"Moderate\", \"High\"])\n",
        "\n",
        "df[\"q11\"] = df[\"q11\"].astype(\"category\")\n",
        "df[\"q11\"] = df[\"q11\"].cat.reorder_categories([\"Not applicable\",\"Poor\", \"Fair\", \"Good\", \"Excellent\"])\n",
        "\n",
        "df[\"q12\"] = df[\"q12\"].astype(\"category\")\n",
        "df[\"q12\"] = df[\"q12\"].cat.reorder_categories([\"Not concerned\", \"Somewhat concerned\", \"Concerned\",\"Very concerned\"])\n",
        "\n",
        "df[\"q13\"] = df[\"q13\"].astype(\"category\")\n",
        "df[\"q13\"] = df[\"q13\"].cat.reorder_categories([\"Not Applicable\",\"None\", \"Minor\", \"Moderate\", \"Significant\"])\n",
        "\n",
        "df[\"q14\"] = df[\"q14\"].astype(\"category\")\n",
        "df[\"q14\"] = df[\"q14\"].cat.reorder_categories([\"Limited\", \"Adequate\", \"Good\", \"Excellent\"])\n",
        "\n",
        "#Step 5: Remove anomalies in the numeric variables\n",
        "# Remove the two outliers in q8 - respondents using their health apps. 20 and 24 on avg. a day\n",
        "df[\"q8\"].replace({20: np.nan,24: np.nan}, inplace = True)\n",
        "\n",
        "#Step 6: Remove rows with NA\n",
        "df = df.dropna()"
      ]
    },
    {
      "cell_type": "markdown",
      "metadata": {
        "id": "Ls7MYalsISZA"
      },
      "source": [
        "## **Model Development**\n",
        "### Artificial Neural Network\n",
        "* (q1) Target Attribute: Level of Digital Health Adoption (Low, Moderate, and High)\n",
        "* Other Attributes: (q7) Frequency of Telehealth Consultations, (q8) Time Spent on Health Applications (in hrs.), (q9) Trust in Telehealth (scale 1-5), and (q10) Digital Health Literacy Score (score 0-100)"
      ]
    },
    {
      "cell_type": "code",
      "execution_count": null,
      "metadata": {
        "colab": {
          "base_uri": "https://localhost:8080/"
        },
        "id": "MEYlLpQXYMzS",
        "outputId": "766cb3b9-9e05-47f5-89ce-128a53e9c15c"
      },
      "outputs": [
        {
          "output_type": "stream",
          "name": "stdout",
          "text": [
            "Case 1 (Default): Sigmoid\n",
            "Accuracy on training set: 51.35%\n",
            "Accuracy on test set: 58.82%\n",
            "\n",
            "Case 1 (Best): Sigmoid\n",
            "Accuracy on training set: 86.49%\n",
            "Accuracy on test set: 41.18%\n",
            "\n",
            " Case 2 (Default): TANH\n",
            "Accuracy on training set: 70.27%\n",
            "Accuracy on test set: 52.94%\n",
            "\n",
            " Case 2 (Best):TANH\n",
            "Accuracy on training set: 62.16%\n",
            "Accuracy on test set: 64.71%\n",
            "\n",
            " Case 3 (Default): ReLU\n",
            "Accuracy on training set: 67.57%\n",
            "Accuracy on test set: 70.59%\n",
            "\n",
            " Case 3 (Best): ReLU\n",
            "Accuracy on training set: 70.27%\n",
            "Accuracy on test set: 64.71%\n"
          ]
        }
      ],
      "source": [
        "X = pd.get_dummies(df[[\"q7\",\"q8\",\"q9\",\"q10\"]])\n",
        "y = df['q1']\n",
        "\n",
        "# -------------- Step 1: Split the dataset into a training set and a testing set. --------------\n",
        "x_train, x_test, y_train, y_test = train_test_split(X, y, train_size= 0.7, test_size=0.3, random_state=42)\n",
        "\n",
        "#  -------------- Step 2: Before the actual learning process, the data must be normalized first. --------------\n",
        "# MLP works best if the data is scaled in terms of [0,1] (Sigmoid), [-1,1] (Tanh), or [0, inf) (ReLU)  ranges\n",
        "# Source: The DOST Summer School on AI, 2017)\n",
        "\n",
        "##### Case 1: Sigmoid\n",
        "sig_scaler = MinMaxScaler(feature_range=(0,1))\n",
        "x_train_sig = sig_scaler.fit_transform(x_train)\n",
        "x_test_sig = sig_scaler.transform(x_test)\n",
        "\n",
        "##### Case 2: Tanh\n",
        "tanh_scaler = MinMaxScaler(feature_range=(-1,1))\n",
        "x_train_tanh = tanh_scaler.fit_transform(x_train)\n",
        "x_test_tanh = tanh_scaler.transform(x_test)\n",
        "\n",
        "##### Case 3: ReLU / Standard\n",
        "relu_scaler = StandardScaler()\n",
        "x_train_relu = relu_scaler.fit_transform(x_train)\n",
        "x_test_relu = relu_scaler.transform(x_test)\n",
        "\n",
        "# -------------- Step 3: Define hyperparameters for hyper parameter tuning --------------\n",
        "param_grid = {\n",
        "    'hidden_layer_sizes': [(1,), (5,), (10,), (50,), (100,)],\n",
        "    'activation': ['logistic','relu', 'tanh'],\n",
        "    'alpha': [0.0001, 0.001, 0.01],\n",
        "    'learning_rate_init': [0.001, 0.01, 0.1],\n",
        "    'max_iter': [200],\n",
        "    'solver':['lbfgs', 'sgd', 'adam'],\n",
        "    'batch_size': [50, 100]\n",
        "}\n",
        "\n",
        "# -------------- Step 4: Initialize the MLP Classifier and fit the classifier to the training data --------------\n",
        "\n",
        "##### Case 1: Sigmoid (Default Model and Hyper Parameterized Model)\n",
        "mlp_sig = MLPClassifier(hidden_layer_sizes=(10,),max_iter=200,learning_rate_init=0.001, activation='logistic',random_state=42)\n",
        "mlp_sig.fit(x_train_sig,y_train)\n",
        "\n",
        "mlp_sighp = MLPClassifier(random_state=42)\n",
        "grid_search_sig = GridSearchCV(mlp_sighp, param_grid, cv=5, scoring='accuracy', n_jobs=-1) # Perform grid search with cross-validation\n",
        "grid_search_sig.fit(x_train_sig, y_train)\n",
        "\n",
        "best_params_sig = grid_search_sig.best_params_        # Get the best parameters\n",
        "best_mlp_sig = MLPClassifier(**best_params_sig,random_state=42)       # Train the model with the best parameters\n",
        "best_mlp_sig.fit(x_train_sig, y_train)\n",
        "\n",
        "##### Case 2: Tanh (Default Model and Hyper Parameterized Model)\n",
        "mlp_tanh = MLPClassifier(hidden_layer_sizes=(10,),max_iter=200,learning_rate_init=0.001, activation='tanh',random_state=42)\n",
        "mlp_tanh.fit(x_train_tanh,y_train)\n",
        "\n",
        "mlp_tanhhp = MLPClassifier(random_state=42)\n",
        "grid_search_tanh = GridSearchCV(mlp_tanhhp, param_grid, cv=5, scoring='accuracy', n_jobs=-1) # Perform grid search with cross-validation\n",
        "grid_search_tanh.fit(x_train_tanh,y_train)\n",
        "\n",
        "best_params_tanh = grid_search_tanh.best_params_      # Get the best parameters\n",
        "best_mlp_tanh = MLPClassifier(**best_params_tanh,random_state=42)     # Train the model with the best parameters\n",
        "best_mlp_tanh.fit(x_train_tanh,y_train)\n",
        "\n",
        "##### Case 3: ReLU / Standard (Default Model and Hyper Parameterized Model)\n",
        "mlp_relu = MLPClassifier(hidden_layer_sizes=(10,),max_iter=200,learning_rate_init=0.001, activation='relu',random_state=42)\n",
        "mlp_relu.fit(x_train_relu,y_train)\n",
        "\n",
        "mlp_reluhp = MLPClassifier(random_state=42)\n",
        "grid_search_relu = GridSearchCV(mlp_reluhp, param_grid, cv=5, scoring='accuracy', n_jobs=-1) # Perform grid search with cross-validation\n",
        "grid_search_relu.fit(x_train_relu,y_train)\n",
        "\n",
        "best_params_relu = grid_search_relu.best_params_      # Get the best parameters\n",
        "best_mlp_relu = MLPClassifier(**best_params_relu,random_state=42)     # Train the model with the best parameters\n",
        "best_mlp_relu.fit(x_train_relu,y_train)\n",
        "\n",
        "# -------------- Step 5: Make predictions on the test data  --------------\n",
        "y_pred_sig = mlp_sig.predict(x_test_sig)          # Sigmoid\n",
        "y_pred_best_sig = best_mlp_sig.predict(x_test_sig)\n",
        "y_pred_tanh = mlp_tanh.predict(x_test_tanh)       # Tanh\n",
        "y_pred_best_tanh = best_mlp_tanh.predict(x_test_tanh)\n",
        "y_pred_relu = mlp_relu.predict(x_test_relu)       # ReLU\n",
        "y_pred_best_relu = best_mlp_relu.predict(x_test_relu)\n",
        "\n",
        "# -------------- Step 6: Calculate the accuracy of the classifiers --------------\n",
        "accuracy_sig = accuracy_score(y_test, y_pred_sig)\n",
        "accuracy_best_sig = accuracy_score(y_test, y_pred_best_sig)\n",
        "accuracy_tanh = accuracy_score(y_test, y_pred_tanh)\n",
        "accuracy_best_tanh = accuracy_score(y_test, y_pred_best_tanh)\n",
        "accuracy_relu = accuracy_score(y_test, y_pred_relu)\n",
        "accuracy_best_relu = accuracy_score(y_test, y_pred_best_relu)\n",
        "\n",
        "# -------------- Step 7: Print Results --------------\n",
        "print(\"Case 1 (Default): Sigmoid\")\n",
        "print(f\"Accuracy on training set: {mlp_sig.score(x_train_sig, y_train) * 100:.2f}%\")\n",
        "print(f\"Accuracy on test set: {accuracy_sig * 100:.2f}%\")\n",
        "\n",
        "print(\"\\nCase 1 (Best): Sigmoid\")\n",
        "print(f\"Accuracy on training set: {best_mlp_sig.score(x_train_sig, y_train) * 100:.2f}%\")\n",
        "print(f\"Accuracy on test set: {accuracy_best_sig * 100:.2f}%\")\n",
        "\n",
        "print(\"\\n Case 2 (Default): TANH\")\n",
        "print(f\"Accuracy on training set: {mlp_tanh.score(x_train_tanh, y_train) * 100:.2f}%\")\n",
        "print(f\"Accuracy on test set: {accuracy_tanh  * 100:.2f}%\")\n",
        "\n",
        "print(\"\\n Case 2 (Best):TANH\")\n",
        "print(f\"Accuracy on training set: {best_mlp_tanh.score(x_train_tanh, y_train) * 100:.2f}%\")\n",
        "print(f\"Accuracy on test set: {accuracy_best_tanh * 100:.2f}%\")\n",
        "\n",
        "print(\"\\n Case 3 (Default): ReLU\")\n",
        "print(f\"Accuracy on training set: {mlp_relu.score(x_train_relu, y_train) * 100:.2f}%\")\n",
        "print(f\"Accuracy on test set: {accuracy_relu  * 100:.2f}%\")\n",
        "\n",
        "print(\"\\n Case 3 (Best): ReLU\")\n",
        "print(f\"Accuracy on training set: {best_mlp_relu.score(x_train_relu, y_train) * 100:.2f}%\")\n",
        "print(f\"Accuracy on test set: {accuracy_best_relu * 100:.2f}%\")"
      ]
    },
    {
      "cell_type": "code",
      "execution_count": null,
      "metadata": {
        "colab": {
          "base_uri": "https://localhost:8080/"
        },
        "id": "IDQz0fMV8g_-",
        "outputId": "791fca6e-3ed1-4dfc-9ef9-dfe3bfc2f120"
      },
      "outputs": [
        {
          "output_type": "execute_result",
          "data": {
            "text/plain": [
              "{'activation': 'relu',\n",
              " 'alpha': 0.0001,\n",
              " 'batch_size': 50,\n",
              " 'beta_1': 0.9,\n",
              " 'beta_2': 0.999,\n",
              " 'early_stopping': False,\n",
              " 'epsilon': 1e-08,\n",
              " 'hidden_layer_sizes': (10,),\n",
              " 'learning_rate': 'constant',\n",
              " 'learning_rate_init': 0.001,\n",
              " 'max_fun': 15000,\n",
              " 'max_iter': 200,\n",
              " 'momentum': 0.9,\n",
              " 'n_iter_no_change': 10,\n",
              " 'nesterovs_momentum': True,\n",
              " 'power_t': 0.5,\n",
              " 'random_state': 42,\n",
              " 'shuffle': True,\n",
              " 'solver': 'sgd',\n",
              " 'tol': 0.0001,\n",
              " 'validation_fraction': 0.1,\n",
              " 'verbose': False,\n",
              " 'warm_start': False}"
            ]
          },
          "metadata": {},
          "execution_count": 3
        }
      ],
      "source": [
        "best_mlp_relu.get_params()"
      ]
    },
    {
      "cell_type": "code",
      "execution_count": null,
      "metadata": {
        "colab": {
          "base_uri": "https://localhost:8080/",
          "height": 680
        },
        "id": "AIuLFWX1lBJ7",
        "outputId": "ce01fc4b-da6e-49e6-9aae-76d5834934a0"
      },
      "outputs": [
        {
          "output_type": "display_data",
          "data": {
            "text/plain": [
              "<Figure size 640x480 with 2 Axes>"
            ],
            "image/png": "[encoded data removed]"
          },
          "metadata": {}
        },
        {
          "output_type": "stream",
          "name": "stdout",
          "text": [
            "\n",
            "Classification Report:\n",
            "               precision    recall  f1-score   support\n",
            "\n",
            "        High     0.0000    0.0000    0.0000         1\n",
            "         Ḷow     0.6667    0.3333    0.4444         6\n",
            "    Moderate     0.6429    0.9000    0.7500        10\n",
            "\n",
            "    accuracy                         0.6471        17\n",
            "   macro avg     0.4365    0.4111    0.3981        17\n",
            "weighted avg     0.6134    0.6471    0.5980        17\n",
            "\n"
          ]
        }
      ],
      "source": [
        "# -------------- Step 8: Display the confusion matrix and classification report --------------\n",
        "# Please note that beyond this point only the best model is used. In this case only Case 3 (Best): ReLU from the above is used.\n",
        "conf_matrix = confusion_matrix(y_test, y_pred_best_relu)\n",
        "sns.heatmap(conf_matrix, annot=True, fmt='d', cmap='Blues', xticklabels=[\"High\", \"Ḷow\",\"Moderate\"], yticklabels=[\"High\", \"Ḷow\",\"Moderate\"])\n",
        "plt.xlabel('Predicted')\n",
        "plt.ylabel('Actual')\n",
        "plt.title('Confusion Matrix')\n",
        "plt.show()\n",
        "\n",
        "# Display classification report with precision, recall, and F1-score\n",
        "report = classification_report(y_test, y_pred_best_relu, digits = 4, target_names=[\"High\", \"Ḷow\",\"Moderate\"])\n",
        "print(\"\\nClassification Report:\\n\", report)"
      ]
    },
    {
      "cell_type": "markdown",
      "metadata": {
        "id": "YFsd1pYEI8zi"
      },
      "source": [
        "## **Model Cross Validation**"
      ]
    },
    {
      "cell_type": "code",
      "execution_count": null,
      "metadata": {
        "id": "mPyJPScsQDZp"
      },
      "outputs": [],
      "source": [
        "# Initialize cross-validation parameters\n",
        "cv = 5                                                                                     # Standard k-folds\n",
        "kfold = KFold(n_splits = 5, shuffle = True, random_state = 42)                               # Stratified\n",
        "shuffle_split = ShuffleSplit(train_size=.7, test_size=.3, n_splits=5, random_state = 42)   # Shuffle"
      ]
    },
    {
      "cell_type": "code",
      "execution_count": null,
      "metadata": {
        "colab": {
          "base_uri": "https://localhost:8080/"
        },
        "id": "0LeFJWJvujcB",
        "outputId": "efb04045-1eeb-4d15-b5e6-d1e07b5834d9"
      },
      "outputs": [
        {
          "output_type": "stream",
          "name": "stdout",
          "text": [
            "STANDARD CROSS VALIDATION\n",
            "\n",
            "Scores (DT): [0.81818182 0.63636364 0.36363636 0.72727273 0.5       ]\n",
            "Average score (DT): 0.61\n",
            "\n",
            "\n",
            "STRATIFIED CROSS VALIDATION\n",
            "\n",
            "Scores (DT): [0.81818182 0.45454545 0.63636364 0.72727273 0.7       ]\n",
            "Average score (DT): 0.67\n",
            "\n",
            "\n",
            "Shuffle-split CROSS VALIDATION\n",
            "\n",
            "Scores (DT): [0.64705882 0.64705882 0.35294118 0.58823529 0.58823529]\n",
            "Average score (DT): 0.56\n"
          ]
        }
      ],
      "source": [
        "#Standard Cross Validation\n",
        "stan_score4 = cross_val_score(best_mlp_relu, relu_scaler.transform(X), y, cv=cv)\n",
        "print(\"STANDARD CROSS VALIDATION\\n\")\n",
        "print(\"Scores (DT): {}\".format(stan_score4))\n",
        "print(\"Average score (DT): {:.2f}\".format(stan_score4.mean()))\n",
        "print(\"\\n\")\n",
        "\n",
        "#Stratified Cross Validation\n",
        "strat_score4 = cross_val_score(best_mlp_relu, relu_scaler.transform(X), y, cv=kfold)\n",
        "print(\"STRATIFIED CROSS VALIDATION\\n\")\n",
        "print(\"Scores (DT): {}\".format(strat_score4))\n",
        "print(\"Average score (DT): {:.2f}\".format(strat_score4.mean()))\n",
        "print(\"\\n\")\n",
        "\n",
        "#Shuffle-split Cross Validation\n",
        "shuffle_score4 = cross_val_score(best_mlp_relu, relu_scaler.transform(X), y, cv=shuffle_split)\n",
        "print(\"Shuffle-split CROSS VALIDATION\\n\")\n",
        "print(\"Scores (DT): {}\".format(shuffle_score4))\n",
        "print(\"Average score (DT): {:.2f}\".format(shuffle_score4.mean()))"
      ]
    },
    {
      "cell_type": "markdown",
      "metadata": {
        "id": "VgvYE1iOI3Mz"
      },
      "source": [
        "## **Further Analysis**"
      ]
    },
    {
      "cell_type": "code",
      "execution_count": null,
      "metadata": {
        "colab": {
          "base_uri": "https://localhost:8080/"
        },
        "id": "RJCLUH29oqyc",
        "outputId": "929ecbff-4e98-43ab-dcfa-8041d6e83cf5"
      },
      "outputs": [
        {
          "output_type": "stream",
          "name": "stdout",
          "text": [
            "Accuracy on training set: 64.86%\n",
            "Accuracy on test set: 64.71%\n",
            "1. Mean Test Score: 0.6179, Hyperparameters: {'activation': 'relu', 'alpha': 0.0001, 'batch_size': 50, 'hidden_layer_sizes': (5,), 'learning_rate_init': 0.001, 'max_iter': 200, 'solver': 'sgd'}\n",
            "2. Mean Test Score: 0.5714, Hyperparameters: {'activation': 'relu', 'alpha': 0.0001, 'batch_size': 50, 'hidden_layer_sizes': (5, 5), 'learning_rate_init': 0.001, 'max_iter': 200, 'solver': 'sgd'}\n",
            "3. Mean Test Score: 0.2964, Hyperparameters: {'activation': 'relu', 'alpha': 0.0001, 'batch_size': 50, 'hidden_layer_sizes': (5, 5, 5), 'learning_rate_init': 0.001, 'max_iter': 200, 'solver': 'sgd'}\n",
            "4. Mean Test Score: 0.3786, Hyperparameters: {'activation': 'relu', 'alpha': 0.0001, 'batch_size': 50, 'hidden_layer_sizes': (5, 5, 5, 5), 'learning_rate_init': 0.001, 'max_iter': 200, 'solver': 'sgd'}\n",
            "5. Mean Test Score: 0.6000, Hyperparameters: {'activation': 'relu', 'alpha': 0.0001, 'batch_size': 50, 'hidden_layer_sizes': (5, 5, 5, 5, 5), 'learning_rate_init': 0.001, 'max_iter': 200, 'solver': 'sgd'}\n"
          ]
        }
      ],
      "source": [
        "# Case 1: Assuming 1 - 5 hidden layers with 5 neurons per layer - based on the best model parameter\n",
        "param_grid_other_analysis = {\n",
        "    'hidden_layer_sizes': [(5,), (5,5), (5,5,5), (5,5,5,5), (5,5,5,5,5)],\n",
        "    'activation': ['relu'],\n",
        "    'alpha': [0.0001],\n",
        "    'learning_rate_init': [0.001],\n",
        "    'max_iter': [200],\n",
        "    'solver':['sgd'],\n",
        "    'batch_size': [50]\n",
        "}\n",
        "\n",
        "# Generate a MLP Classifier\n",
        "mlp = MLPClassifier(random_state=42)\n",
        "grid_search = GridSearchCV(mlp, param_grid_other_analysis, cv=5, scoring='accuracy', n_jobs=-1) # Perform grid search with cross-validation\n",
        "\n",
        "# Fit the training data to the model\n",
        "grid_search.fit(x_train_relu,y_train)\n",
        "\n",
        "# Get the best parameters\n",
        "best_params = grid_search.best_params_\n",
        "best_mlp = MLPClassifier(**best_params,random_state=42)\n",
        "best_mlp.fit(x_train_relu,y_train)\n",
        "\n",
        "# Predict using the best model\n",
        "y_pred_best = best_mlp.predict(x_test_relu)\n",
        "accuracy_best = accuracy_score(y_test, y_pred_best)\n",
        "\n",
        "# Print Results\n",
        "print(f\"Accuracy on training set: {best_mlp.score(x_train_relu, y_train) * 100:.2f}%\")\n",
        "print(f\"Accuracy on test set: {accuracy_best * 100:.2f}%\")\n",
        "\n",
        "# Access the search grid results\n",
        "results = grid_search.cv_results_\n",
        "\n",
        "# Print all the search grid results\n",
        "i = 0\n",
        "for mean_score, params in zip(results[\"mean_test_score\"], results[\"params\"]):\n",
        "    i = i + 1\n",
        "    print(f\"{i}. Mean Test Score: {mean_score:.4f}, Hyperparameters: {params}\")"
      ]
    },
    {
      "cell_type": "code",
      "execution_count": null,
      "metadata": {
        "colab": {
          "base_uri": "https://localhost:8080/"
        },
        "id": "ZpbI2pJyZ1QV",
        "outputId": "75d4598e-9f66-4d07-e62e-71bd2febcaf5"
      },
      "outputs": [
        {
          "output_type": "stream",
          "name": "stdout",
          "text": [
            "Accuracy on training set: 70.27%\n",
            "Accuracy on test set: 64.71%\n",
            "1. Mean Test Score: 0.5143, Hyperparameters: {'activation': 'relu', 'alpha': 0.0001, 'batch_size': 50, 'hidden_layer_sizes': (6,), 'learning_rate_init': 0.001, 'max_iter': 200, 'solver': 'sgd'}\n",
            "2. Mean Test Score: 0.6571, Hyperparameters: {'activation': 'relu', 'alpha': 0.0001, 'batch_size': 50, 'hidden_layer_sizes': (10,), 'learning_rate_init': 0.001, 'max_iter': 200, 'solver': 'sgd'}\n",
            "3. Mean Test Score: 0.4107, Hyperparameters: {'activation': 'relu', 'alpha': 0.0001, 'batch_size': 50, 'hidden_layer_sizes': (25,), 'learning_rate_init': 0.001, 'max_iter': 200, 'solver': 'sgd'}\n",
            "4. Mean Test Score: 0.5214, Hyperparameters: {'activation': 'relu', 'alpha': 0.0001, 'batch_size': 50, 'hidden_layer_sizes': (50,), 'learning_rate_init': 0.001, 'max_iter': 200, 'solver': 'sgd'}\n",
            "5. Mean Test Score: 0.5179, Hyperparameters: {'activation': 'relu', 'alpha': 0.0001, 'batch_size': 50, 'hidden_layer_sizes': (100,), 'learning_rate_init': 0.001, 'max_iter': 200, 'solver': 'sgd'}\n",
            "6. Mean Test Score: 0.5750, Hyperparameters: {'activation': 'relu', 'alpha': 0.0001, 'batch_size': 50, 'hidden_layer_sizes': (250,), 'learning_rate_init': 0.001, 'max_iter': 200, 'solver': 'sgd'}\n",
            "7. Mean Test Score: 0.5750, Hyperparameters: {'activation': 'relu', 'alpha': 0.0001, 'batch_size': 50, 'hidden_layer_sizes': (500,), 'learning_rate_init': 0.001, 'max_iter': 200, 'solver': 'sgd'}\n"
          ]
        }
      ],
      "source": [
        "# Case 2: Assuming 1 hidden layer with 6, 10, 25, 50, 100, 250, 500 neurons per layer - based on the best model parameter\n",
        "param_grid_other_analysis = {\n",
        "    'hidden_layer_sizes': [(6,), (10,), (25,), (50,), (100,), (250,), (500,)],\n",
        "    'activation': ['relu'],\n",
        "    'alpha': [0.0001],\n",
        "    'learning_rate_init': [0.001],\n",
        "    'max_iter': [200],\n",
        "    'solver':['sgd'],\n",
        "    'batch_size': [50]\n",
        "}\n",
        "\n",
        "# Generate a MLP Classifier\n",
        "mlp = MLPClassifier(random_state=42)\n",
        "grid_search = GridSearchCV(mlp, param_grid_other_analysis, cv=5, scoring='accuracy', n_jobs=-1) # Perform grid search with cross-validation\n",
        "\n",
        "# Fit the training data to the model\n",
        "grid_search.fit(x_train_relu,y_train)\n",
        "\n",
        "# Get the best parameters\n",
        "best_params = grid_search.best_params_\n",
        "best_mlp = MLPClassifier(**best_params,random_state=42)\n",
        "best_mlp.fit(x_train_relu,y_train)\n",
        "\n",
        "# Predict using the best model\n",
        "y_pred_best = best_mlp.predict(x_test_relu)\n",
        "accuracy_best = accuracy_score(y_test, y_pred_best)\n",
        "\n",
        "# Print Results\n",
        "print(f\"Accuracy on training set: {best_mlp.score(x_train_relu, y_train) * 100:.2f}%\")\n",
        "print(f\"Accuracy on test set: {accuracy_best * 100:.2f}%\")\n",
        "\n",
        "# Access the search grid results\n",
        "results = grid_search.cv_results_\n",
        "\n",
        "# Print all the search grid results\n",
        "i = 0\n",
        "for mean_score, params in zip(results[\"mean_test_score\"], results[\"params\"]):\n",
        "    i = i + 1\n",
        "    print(f\"{i}. Mean Test Score: {mean_score:.4f}, Hyperparameters: {params}\")"
      ]
    }
  ],
  "metadata": {
    "colab": {
      "collapsed_sections": [
        "2J1bmeYme6Zz",
        "YFsd1pYEI8zi",
        "VgvYE1iOI3Mz"
      ],
      "provenance": []
    },
    "kernelspec": {
      "display_name": "Python 3",
      "name": "python3"
    },
    "language_info": {
      "name": "python"
    }
  },
  "nbformat": 4,
  "nbformat_minor": 0
}